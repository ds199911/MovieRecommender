{
 "cells": [
  {
   "cell_type": "markdown",
   "id": "further-cleveland",
   "metadata": {},
   "source": [
    "! pip install fastparquet\n",
    "! pip install --user annoy"
   ]
  },
  {
   "cell_type": "markdown",
   "id": "biblical-sister",
   "metadata": {},
   "source": [
    "## Fast Search -- Annoy (Approximate Nearest Neighbors Oh Yeah) \n",
    "https://github.com/spotify/annoy"
   ]
  },
  {
   "cell_type": "code",
   "execution_count": 1,
   "id": "royal-bread",
   "metadata": {},
   "outputs": [],
   "source": [
    "import os\n",
    "import pandas as pd\n",
    "#\n",
    "import numpy as np\n",
    "from annoy import AnnoyIndex\n",
    "import os\n",
    "import time\n",
    "from tqdm import tqdm_notebook as tqdm\n",
    "import matplotlib.pyplot as plt\n",
    "%matplotlib inline"
   ]
  },
  {
   "cell_type": "code",
   "execution_count": 141,
   "id": "alien-burst",
   "metadata": {},
   "outputs": [],
   "source": [
    "# folder_dir = '/home/ds5749/ALS_10_0.01/'\n",
    "folder_dir = '/home/ds5749/ALS100/'\n",
    "# folder_dir = '/home/ds5749/ALS250/'\n",
    "# folder_dir = '/home/ds5749/ALS500/'\n",
    "concat = False\n",
    "for path in os.listdir(os.path.join(folder_dir, 'itemFactors')):\n",
    "    if 'part' in path:\n",
    "        if not concat:\n",
    "            item = pd.read_parquet(os.path.join(folder_dir, 'itemFactors', path))\n",
    "            concat = True\n",
    "        else:\n",
    "            item = pd.concat([item, pd.read_parquet(os.path.join(folder_dir,'itemFactors', path))])\n",
    "            \n",
    "concat = False\n",
    "for path in os.listdir(os.path.join(folder_dir, 'userFactors')):\n",
    "    if 'part' in path:\n",
    "        if not concat:\n",
    "            user = pd.read_parquet(os.path.join(folder_dir, 'userFactors', path))\n",
    "            concat = True\n",
    "        else:\n",
    "            user = pd.concat([item, pd.read_parquet(os.path.join(folder_dir,'userFactors', path))])\n",
    "            \n",
    "item = item.sort_values(by=['id'])\n",
    "user = user.sort_values(by=['id'])\n",
    "user = user[user.id.isin(users)]"
   ]
  },
  {
   "cell_type": "code",
   "execution_count": 142,
   "id": "limiting-nebraska",
   "metadata": {},
   "outputs": [],
   "source": [
    "val = pd.read_csv('/home/ds5749/data/val_large.csv')\n",
    "users = user.id.unique()[0:100]\n",
    "val = val[val.userId.isin(users)]\n",
    "train = pd.read_csv('/home/ds5749/data/train_large.csv')\n",
    "train = val[val.userId.isin(users)]\n",
    "label = pd.concat([val, train])"
   ]
  },
  {
   "cell_type": "code",
   "execution_count": 143,
   "id": "closing-mother",
   "metadata": {},
   "outputs": [],
   "source": [
    "rating = []\n",
    "for ID in users:\n",
    "    lst = label[label.userId == ID][['movieId', 'rating']].sort_values(by = ['rating'], ascending = False)\n",
    "    rating.append(lst.movieId.values)"
   ]
  },
  {
   "cell_type": "code",
   "execution_count": 144,
   "id": "burning-ethernet",
   "metadata": {},
   "outputs": [],
   "source": [
    "class Inference:\n",
    "    def __init__(self, item_vec, movie_id):\n",
    "        self.data = item_vec\n",
    "        self.movie_id = movie_id\n",
    "    def Create_Approximate_Nearest_Neighbors(self, item, n_trees=40):\n",
    "        f = len(item.features.iloc[0])\n",
    "        self.Approximate_Nearest_Neighbors = AnnoyIndex(f, metric='dot')\n",
    "        for i in item.id:\n",
    "            self.Approximate_Nearest_Neighbors.add_item(i, item[item.id==i].features.values[0])\n",
    "        self.Approximate_Nearest_Neighbors.build(n_trees, n_jobs=-1)\n",
    "      \n",
    "    def search(self, queries,algo, k):\n",
    "        times = []\n",
    "        results = []\n",
    "        for i in tqdm(range(len(queries))):\n",
    "            interval, res = self.single_query(queries[i], algo, k)\n",
    "            times.append(interval)\n",
    "            results.append(res)\n",
    "        mean_time = sum(times) / len(times)\n",
    "        print(algo)\n",
    "        print('Average Query Time: %.8f' % mean_time)\n",
    "        return mean_time, results    \n",
    "        \n",
    "    def single_query(self, query, algo, k):\n",
    "        start = time.time()\n",
    "        if type(query) is not np.ndarray:\n",
    "            query = np.array(query)\n",
    "        res = self.similarity(query, algo, k)\n",
    "        interval = time.time() - start\n",
    "        return interval, res\n",
    "    \n",
    "    def similarity(self, query, algo, k):\n",
    "        if algo == \"brute_force\":\n",
    "            res = np.argsort(-self.data.dot(query))[:k]\n",
    "            lst = []\n",
    "            for i in res:\n",
    "                lst.append(self.movie_id[i])\n",
    "            return lst\n",
    "                \n",
    "        elif algo == \"Approximate_Nearest_Neighbors\":\n",
    "            return self.Approximate_Nearest_Neighbors.get_nns_by_vector(query, n=k, search_k=-1, include_distances=False)\n",
    "        \n",
    "def precision(y_pred, y_true):\n",
    "    hit = [1 if y_pred[i] in y_true else 0 for i in range(len(y_pred))]\n",
    "    return sum(hit)/len(hit)"
   ]
  },
  {
   "cell_type": "code",
   "execution_count": 145,
   "id": "shaped-found",
   "metadata": {},
   "outputs": [],
   "source": [
    "movie_vec = []\n",
    "for i in item.id:\n",
    "    movie_vec.append(np.array(item[item.id==i].features.values[0]))\n",
    "movie_id =  [i for i in item.id]\n",
    "movie_vec = np.vstack(movie_vec)\n",
    "user_vec = []\n",
    "for i in user.id[0:100].unique():\n",
    "    user_vec.append(user[user.id==i].features.values[0])"
   ]
  },
  {
   "cell_type": "code",
   "execution_count": 146,
   "id": "roman-platform",
   "metadata": {},
   "outputs": [
    {
     "name": "stderr",
     "output_type": "stream",
     "text": [
      "<ipython-input-144-0ad35759326b>:15: TqdmDeprecationWarning: This function will be removed in tqdm==5.0.0\n",
      "Please use `tqdm.notebook.tqdm` instead of `tqdm.tqdm_notebook`\n",
      "  for i in tqdm(range(len(queries))):\n"
     ]
    },
    {
     "data": {
      "application/vnd.jupyter.widget-view+json": {
       "model_id": "53373958fd284e90b16b28c670822321",
       "version_major": 2,
       "version_minor": 0
      },
      "text/plain": [
       "  0%|          | 0/8 [00:00<?, ?it/s]"
      ]
     },
     "metadata": {},
     "output_type": "display_data"
    },
    {
     "name": "stdout",
     "output_type": "stream",
     "text": [
      "brute_force\n",
      "Average Query Time: 0.00409326\n",
      "Precision: 0.00125\n"
     ]
    }
   ],
   "source": [
    "inference = Inference(movie_vec, movie_id)\n",
    "mean_time, result = inference.search(user_vec, 'brute_force', k=100)\n",
    "p = 0\n",
    "for i in range(len(result)):\n",
    "    p += precision(result[i], rating[i])\n",
    "print(\"Precision:\", p/len(result))"
   ]
  },
  {
   "cell_type": "code",
   "execution_count": 150,
   "id": "dominican-filename",
   "metadata": {},
   "outputs": [
    {
     "name": "stderr",
     "output_type": "stream",
     "text": [
      "<ipython-input-144-0ad35759326b>:15: TqdmDeprecationWarning: This function will be removed in tqdm==5.0.0\n",
      "Please use `tqdm.notebook.tqdm` instead of `tqdm.tqdm_notebook`\n",
      "  for i in tqdm(range(len(queries))):\n"
     ]
    },
    {
     "data": {
      "application/vnd.jupyter.widget-view+json": {
       "model_id": "922b33a254a546af8d52921fb692ccb6",
       "version_major": 2,
       "version_minor": 0
      },
      "text/plain": [
       "  0%|          | 0/8 [00:00<?, ?it/s]"
      ]
     },
     "metadata": {},
     "output_type": "display_data"
    },
    {
     "name": "stdout",
     "output_type": "stream",
     "text": [
      "Approximate_Nearest_Neighbors\n",
      "Average Query Time: 0.00010315\n",
      "Precision: 0.0025\n"
     ]
    }
   ],
   "source": [
    "inference.Create_Approximate_Nearest_Neighbors(item, n_trees=8)\n",
    "mean_time, results = inference.search(user_vec, 'Approximate_Nearest_Neighbors', k=100)\n",
    "p = 0\n",
    "for i in range(len(results)):\n",
    "    p += precision(results[i], rating[i])\n",
    "print(\"Precision:\", p/len(results))"
   ]
  },
  {
   "cell_type": "code",
   "execution_count": null,
   "id": "criminal-family",
   "metadata": {},
   "outputs": [],
   "source": []
  }
 ],
 "metadata": {
  "kernelspec": {
   "display_name": "Python 3",
   "language": "python",
   "name": "python3"
  },
  "language_info": {
   "codemirror_mode": {
    "name": "ipython",
    "version": 3
   },
   "file_extension": ".py",
   "mimetype": "text/x-python",
   "name": "python",
   "nbconvert_exporter": "python",
   "pygments_lexer": "ipython3",
   "version": "3.8.5"
  }
 },
 "nbformat": 4,
 "nbformat_minor": 5
}
